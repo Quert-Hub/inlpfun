{
  "nbformat": 4,
  "nbformat_minor": 0,
  "metadata": {
    "kernelspec": {
      "name": "python3",
      "display_name": "Python 3"
    },
    "language_info": {
      "codemirror_mode": {
        "name": "ipython",
        "version": 3
      },
      "file_extension": ".py",
      "mimetype": "text/x-python",
      "name": "python",
      "nbconvert_exporter": "python",
      "pygments_lexer": "ipython3",
      "version": "3.7.4"
    },
    "colab": {
      "name": "word2vec.ipynb",
      "provenance": [],
      "collapsed_sections": [
        "gmbckb70YSAz",
        "TEXhkAneVJ21",
        "t9Pypi1W-vVU",
        "iL2Gw0lF9INl",
        "_QISiUOeAcAs",
        "_LgHSXha5VaG",
        "SsPee5X25tMf"
      ],
      "toc_visible": true,
      "include_colab_link": true
    }
  },
  "cells": [
    {
      "cell_type": "markdown",
      "metadata": {
        "id": "view-in-github",
        "colab_type": "text"
      },
      "source": [
        "<a href=\"https://colab.research.google.com/github/the-Quert/inlpfun/blob/master/word2vec/word2vec.ipynb\" target=\"_parent\"><img src=\"https://colab.research.google.com/assets/colab-badge.svg\" alt=\"Open In Colab\"/></a>"
      ]
    },
    {
      "cell_type": "markdown",
      "metadata": {
        "id": "gmbckb70YSAz",
        "colab_type": "text"
      },
      "source": [
        "#### Mount Drive\n"
      ]
    },
    {
      "cell_type": "code",
      "metadata": {
        "id": "_vczF_reVzjd",
        "colab_type": "code",
        "outputId": "cfd30ae1-2f02-4e85-cf13-421b0dd182f6",
        "colab": {
          "base_uri": "https://localhost:8080/",
          "height": 122
        }
      },
      "source": [
        "from google.colab import drive\n",
        "drive.mount('/content/drive')"
      ],
      "execution_count": 1,
      "outputs": [
        {
          "output_type": "stream",
          "text": [
            "Go to this URL in a browser: https://accounts.google.com/o/oauth2/auth?client_id=947318989803-6bn6qk8qdgf4n4g3pfee6491hc0brc4i.apps.googleusercontent.com&redirect_uri=urn%3aietf%3awg%3aoauth%3a2.0%3aoob&response_type=code&scope=email%20https%3a%2f%2fwww.googleapis.com%2fauth%2fdocs.test%20https%3a%2f%2fwww.googleapis.com%2fauth%2fdrive%20https%3a%2f%2fwww.googleapis.com%2fauth%2fdrive.photos.readonly%20https%3a%2f%2fwww.googleapis.com%2fauth%2fpeopleapi.readonly\n",
            "\n",
            "Enter your authorization code:\n",
            "··········\n",
            "Mounted at /content/drive\n"
          ],
          "name": "stdout"
        }
      ]
    },
    {
      "cell_type": "markdown",
      "metadata": {
        "id": "TEXhkAneVJ21",
        "colab_type": "text"
      },
      "source": [
        "#### Download wiki corpus and convert it to wiki_text.txt"
      ]
    },
    {
      "cell_type": "code",
      "metadata": {
        "id": "wOga_6OhVJ23",
        "colab_type": "code",
        "outputId": "9e303dbf-c876-4c3c-8d2d-0d93dbcb52d4",
        "colab": {
          "base_uri": "https://localhost:8080/",
          "height": 204
        }
      },
      "source": [
        "!wget -c https://dumps.wikimedia.org/zhwiki/20200401/zhwiki-20200401-pages-articles.xml.bz2"
      ],
      "execution_count": 0,
      "outputs": [
        {
          "output_type": "stream",
          "text": [
            "--2020-04-06 08:20:47--  https://dumps.wikimedia.org/zhwiki/20200401/zhwiki-20200401-pages-articles.xml.bz2\n",
            "Resolving dumps.wikimedia.org (dumps.wikimedia.org)... 208.80.154.7, 2620:0:861:1:208:80:154:7\n",
            "Connecting to dumps.wikimedia.org (dumps.wikimedia.org)|208.80.154.7|:443... connected.\n",
            "HTTP request sent, awaiting response... 200 OK\n",
            "Length: 1908947963 (1.8G) [application/octet-stream]\n",
            "Saving to: ‘zhwiki-20200401-pages-articles.xml.bz2’\n",
            "\n",
            "zhwiki-20200401-pag 100%[===================>]   1.78G  4.90MB/s    in 6m 19s  \n",
            "\n",
            "2020-04-06 08:27:07 (4.80 MB/s) - ‘zhwiki-20200401-pages-articles.xml.bz2’ saved [1908947963/1908947963]\n",
            "\n"
          ],
          "name": "stdout"
        }
      ]
    },
    {
      "cell_type": "code",
      "metadata": {
        "id": "FjRyooZLbfH4",
        "colab_type": "code",
        "outputId": "7048548d-9ee9-46c6-9983-05085888d57a",
        "colab": {
          "base_uri": "https://localhost:8080/",
          "height": 666
        }
      },
      "source": [
        "!python3 /content/drive/My\\ Drive/LAB/word2vec/wiki_to_txt.py /content/drive/My\\ Drive/LAB/word2vec/zhwiki-20200401-pages-articles.xml.bz2"
      ],
      "execution_count": 0,
      "outputs": [
        {
          "output_type": "stream",
          "text": [
            "2020-04-15 01:20:10,376 : INFO : 目前已處理 10000 篇文章\n",
            "2020-04-15 01:21:13,348 : INFO : 目前已處理 20000 篇文章\n",
            "2020-04-15 01:22:11,288 : INFO : 目前已處理 30000 篇文章\n",
            "2020-04-15 01:23:08,289 : INFO : 目前已處理 40000 篇文章\n",
            "2020-04-15 01:24:04,783 : INFO : 目前已處理 50000 篇文章\n",
            "2020-04-15 01:25:02,165 : INFO : 目前已處理 60000 篇文章\n",
            "2020-04-15 01:25:57,839 : INFO : 目前已處理 70000 篇文章\n",
            "2020-04-15 01:26:52,057 : INFO : 目前已處理 80000 篇文章\n",
            "2020-04-15 01:27:44,211 : INFO : 目前已處理 90000 篇文章\n",
            "2020-04-15 01:28:38,970 : INFO : 目前已處理 100000 篇文章\n",
            "2020-04-15 01:29:48,658 : INFO : 目前已處理 110000 篇文章\n",
            "2020-04-15 01:30:47,474 : INFO : 目前已處理 120000 篇文章\n",
            "2020-04-15 01:31:48,471 : INFO : 目前已處理 130000 篇文章\n",
            "2020-04-15 01:32:50,395 : INFO : 目前已處理 140000 篇文章\n",
            "2020-04-15 01:33:49,722 : INFO : 目前已處理 150000 篇文章\n",
            "2020-04-15 01:34:49,572 : INFO : 目前已處理 160000 篇文章\n",
            "2020-04-15 01:35:52,317 : INFO : 目前已處理 170000 篇文章\n",
            "2020-04-15 01:36:55,044 : INFO : 目前已處理 180000 篇文章\n",
            "2020-04-15 01:40:29,869 : INFO : 目前已處理 190000 篇文章\n",
            "2020-04-15 01:41:53,103 : INFO : 目前已處理 200000 篇文章\n",
            "2020-04-15 01:43:45,780 : INFO : 目前已處理 210000 篇文章\n",
            "2020-04-15 01:45:12,510 : INFO : 目前已處理 220000 篇文章\n",
            "2020-04-15 01:46:24,339 : INFO : 目前已處理 230000 篇文章\n",
            "2020-04-15 01:47:41,896 : INFO : 目前已處理 240000 篇文章\n",
            "2020-04-15 01:48:58,970 : INFO : 目前已處理 250000 篇文章\n",
            "2020-04-15 01:50:08,393 : INFO : 目前已處理 260000 篇文章\n",
            "2020-04-15 01:51:22,811 : INFO : 目前已處理 270000 篇文章\n",
            "2020-04-15 01:52:35,971 : INFO : 目前已處理 280000 篇文章\n",
            "2020-04-15 01:53:42,128 : INFO : 目前已處理 290000 篇文章\n",
            "2020-04-15 01:54:44,926 : INFO : 目前已處理 300000 篇文章\n",
            "2020-04-15 01:55:55,622 : INFO : 目前已處理 310000 篇文章\n",
            "2020-04-15 01:57:11,055 : INFO : 目前已處理 320000 篇文章\n",
            "2020-04-15 01:58:24,255 : INFO : 目前已處理 330000 篇文章\n",
            "2020-04-15 01:59:40,720 : INFO : 目前已處理 340000 篇文章\n",
            "2020-04-15 02:01:00,472 : INFO : 目前已處理 350000 篇文章\n",
            "2020-04-15 02:02:17,002 : INFO : finished iterating over Wikipedia corpus of 359844 documents with 83079893 positions (total 3458442 articles, 97998547 positions before pruning articles shorter than 50 words)\n",
            "轉檔完畢!\n"
          ],
          "name": "stdout"
        }
      ]
    },
    {
      "cell_type": "markdown",
      "metadata": {
        "id": "t9Pypi1W-vVU",
        "colab_type": "text"
      },
      "source": [
        "#### pip packages installation"
      ]
    },
    {
      "cell_type": "code",
      "metadata": {
        "id": "7g4jqRm5VMIF",
        "colab_type": "code",
        "outputId": "29a46d49-bcf3-4a1f-e840-7d5c8657cb2f",
        "colab": {
          "base_uri": "https://localhost:8080/",
          "height": 717
        }
      },
      "source": [
        "!pip3 install gensim\n",
        "!pip3 install jieba\n",
        "!pip3 install hanziconv"
      ],
      "execution_count": 0,
      "outputs": [
        {
          "output_type": "stream",
          "text": [
            "Requirement already satisfied: gensim in /usr/local/lib/python3.6/dist-packages (3.6.0)\n",
            "Requirement already satisfied: smart-open>=1.2.1 in /usr/local/lib/python3.6/dist-packages (from gensim) (1.10.0)\n",
            "Requirement already satisfied: six>=1.5.0 in /usr/local/lib/python3.6/dist-packages (from gensim) (1.12.0)\n",
            "Requirement already satisfied: scipy>=0.18.1 in /usr/local/lib/python3.6/dist-packages (from gensim) (1.4.1)\n",
            "Requirement already satisfied: numpy>=1.11.3 in /usr/local/lib/python3.6/dist-packages (from gensim) (1.18.2)\n",
            "Requirement already satisfied: boto3 in /usr/local/lib/python3.6/dist-packages (from smart-open>=1.2.1->gensim) (1.12.38)\n",
            "Requirement already satisfied: requests in /usr/local/lib/python3.6/dist-packages (from smart-open>=1.2.1->gensim) (2.21.0)\n",
            "Requirement already satisfied: google-cloud-storage in /usr/local/lib/python3.6/dist-packages (from smart-open>=1.2.1->gensim) (1.18.1)\n",
            "Requirement already satisfied: s3transfer<0.4.0,>=0.3.0 in /usr/local/lib/python3.6/dist-packages (from boto3->smart-open>=1.2.1->gensim) (0.3.3)\n",
            "Requirement already satisfied: botocore<1.16.0,>=1.15.38 in /usr/local/lib/python3.6/dist-packages (from boto3->smart-open>=1.2.1->gensim) (1.15.38)\n",
            "Requirement already satisfied: jmespath<1.0.0,>=0.7.1 in /usr/local/lib/python3.6/dist-packages (from boto3->smart-open>=1.2.1->gensim) (0.9.5)\n",
            "Requirement already satisfied: urllib3<1.25,>=1.21.1 in /usr/local/lib/python3.6/dist-packages (from requests->smart-open>=1.2.1->gensim) (1.24.3)\n",
            "Requirement already satisfied: chardet<3.1.0,>=3.0.2 in /usr/local/lib/python3.6/dist-packages (from requests->smart-open>=1.2.1->gensim) (3.0.4)\n",
            "Requirement already satisfied: idna<2.9,>=2.5 in /usr/local/lib/python3.6/dist-packages (from requests->smart-open>=1.2.1->gensim) (2.8)\n",
            "Requirement already satisfied: certifi>=2017.4.17 in /usr/local/lib/python3.6/dist-packages (from requests->smart-open>=1.2.1->gensim) (2020.4.5.1)\n",
            "Requirement already satisfied: google-cloud-core<2.0dev,>=1.0.0 in /usr/local/lib/python3.6/dist-packages (from google-cloud-storage->smart-open>=1.2.1->gensim) (1.0.3)\n",
            "Requirement already satisfied: google-resumable-media<0.5.0dev,>=0.3.1 in /usr/local/lib/python3.6/dist-packages (from google-cloud-storage->smart-open>=1.2.1->gensim) (0.4.1)\n",
            "Requirement already satisfied: google-auth>=1.2.0 in /usr/local/lib/python3.6/dist-packages (from google-cloud-storage->smart-open>=1.2.1->gensim) (1.7.2)\n",
            "Requirement already satisfied: python-dateutil<3.0.0,>=2.1 in /usr/local/lib/python3.6/dist-packages (from botocore<1.16.0,>=1.15.38->boto3->smart-open>=1.2.1->gensim) (2.8.1)\n",
            "Requirement already satisfied: docutils<0.16,>=0.10 in /usr/local/lib/python3.6/dist-packages (from botocore<1.16.0,>=1.15.38->boto3->smart-open>=1.2.1->gensim) (0.15.2)\n",
            "Requirement already satisfied: google-api-core<2.0.0dev,>=1.14.0 in /usr/local/lib/python3.6/dist-packages (from google-cloud-core<2.0dev,>=1.0.0->google-cloud-storage->smart-open>=1.2.1->gensim) (1.16.0)\n",
            "Requirement already satisfied: pyasn1-modules>=0.2.1 in /usr/local/lib/python3.6/dist-packages (from google-auth>=1.2.0->google-cloud-storage->smart-open>=1.2.1->gensim) (0.2.8)\n",
            "Requirement already satisfied: cachetools<3.2,>=2.0.0 in /usr/local/lib/python3.6/dist-packages (from google-auth>=1.2.0->google-cloud-storage->smart-open>=1.2.1->gensim) (3.1.1)\n",
            "Requirement already satisfied: setuptools>=40.3.0 in /usr/local/lib/python3.6/dist-packages (from google-auth>=1.2.0->google-cloud-storage->smart-open>=1.2.1->gensim) (46.1.3)\n",
            "Requirement already satisfied: rsa<4.1,>=3.1.4 in /usr/local/lib/python3.6/dist-packages (from google-auth>=1.2.0->google-cloud-storage->smart-open>=1.2.1->gensim) (4.0)\n",
            "Requirement already satisfied: protobuf>=3.4.0 in /usr/local/lib/python3.6/dist-packages (from google-api-core<2.0.0dev,>=1.14.0->google-cloud-core<2.0dev,>=1.0.0->google-cloud-storage->smart-open>=1.2.1->gensim) (3.10.0)\n",
            "Requirement already satisfied: googleapis-common-protos<2.0dev,>=1.6.0 in /usr/local/lib/python3.6/dist-packages (from google-api-core<2.0.0dev,>=1.14.0->google-cloud-core<2.0dev,>=1.0.0->google-cloud-storage->smart-open>=1.2.1->gensim) (1.51.0)\n",
            "Requirement already satisfied: pytz in /usr/local/lib/python3.6/dist-packages (from google-api-core<2.0.0dev,>=1.14.0->google-cloud-core<2.0dev,>=1.0.0->google-cloud-storage->smart-open>=1.2.1->gensim) (2018.9)\n",
            "Requirement already satisfied: pyasn1<0.5.0,>=0.4.6 in /usr/local/lib/python3.6/dist-packages (from pyasn1-modules>=0.2.1->google-auth>=1.2.0->google-cloud-storage->smart-open>=1.2.1->gensim) (0.4.8)\n",
            "Requirement already satisfied: jieba in /usr/local/lib/python3.6/dist-packages (0.42.1)\n",
            "Collecting hanziconv\n",
            "\u001b[?25l  Downloading https://files.pythonhosted.org/packages/63/71/b89cb63077fd807fe31cf7c016a06e7e579a289d8a37aa24a30282d02dd2/hanziconv-0.3.2.tar.gz (276kB)\n",
            "\u001b[K     |████████████████████████████████| 286kB 2.8MB/s \n",
            "\u001b[?25hBuilding wheels for collected packages: hanziconv\n",
            "  Building wheel for hanziconv (setup.py) ... \u001b[?25l\u001b[?25hdone\n",
            "  Created wheel for hanziconv: filename=hanziconv-0.3.2-py2.py3-none-any.whl size=23215 sha256=1c5b0038ed6322e8054d262dabfad1bff195c10c59548193a9648482054cef24\n",
            "  Stored in directory: /root/.cache/pip/wheels/03/d8/3c/c39898fa9c9ce6e34b0ab4c6604892462d440c743715c94054\n",
            "Successfully built hanziconv\n",
            "Installing collected packages: hanziconv\n",
            "Successfully installed hanziconv-0.3.2\n"
          ],
          "name": "stdout"
        }
      ]
    },
    {
      "cell_type": "markdown",
      "metadata": {
        "id": "iL2Gw0lF9INl",
        "colab_type": "text"
      },
      "source": [
        "#### Install OpenCC (abandoned), use hanziconv"
      ]
    },
    {
      "cell_type": "code",
      "metadata": {
        "id": "GlbDJeiMyKDe",
        "colab_type": "code",
        "outputId": "69f66262-d99f-4ffe-e3fc-40520cec397f",
        "colab": {
          "base_uri": "https://localhost:8080/",
          "height": 527
        }
      },
      "source": [
        "!apt install opencc"
      ],
      "execution_count": 0,
      "outputs": [
        {
          "output_type": "stream",
          "text": [
            "Reading package lists... Done\n",
            "Building dependency tree       \n",
            "Reading state information... Done\n",
            "The following additional packages will be installed:\n",
            "  libopencc2 libopencc2-data\n",
            "The following NEW packages will be installed:\n",
            "  libopencc2 libopencc2-data opencc\n",
            "0 upgraded, 3 newly installed, 0 to remove and 25 not upgraded.\n",
            "Need to get 1,390 kB of archives.\n",
            "After this operation, 7,332 kB of additional disk space will be used.\n",
            "Get:1 http://archive.ubuntu.com/ubuntu bionic/universe amd64 libopencc2-data all 1.0.4-5 [106 kB]\n",
            "Get:2 http://archive.ubuntu.com/ubuntu bionic/universe amd64 libopencc2 amd64 1.0.4-5 [1,199 kB]\n",
            "Get:3 http://archive.ubuntu.com/ubuntu bionic/universe amd64 opencc amd64 1.0.4-5 [85.3 kB]\n",
            "Fetched 1,390 kB in 3s (516 kB/s)\n",
            "Selecting previously unselected package libopencc2-data.\n",
            "(Reading database ... 144568 files and directories currently installed.)\n",
            "Preparing to unpack .../libopencc2-data_1.0.4-5_all.deb ...\n",
            "Unpacking libopencc2-data (1.0.4-5) ...\n",
            "Selecting previously unselected package libopencc2:amd64.\n",
            "Preparing to unpack .../libopencc2_1.0.4-5_amd64.deb ...\n",
            "Unpacking libopencc2:amd64 (1.0.4-5) ...\n",
            "Selecting previously unselected package opencc.\n",
            "Preparing to unpack .../opencc_1.0.4-5_amd64.deb ...\n",
            "Unpacking opencc (1.0.4-5) ...\n",
            "Setting up libopencc2-data (1.0.4-5) ...\n",
            "Setting up libopencc2:amd64 (1.0.4-5) ...\n",
            "Setting up opencc (1.0.4-5) ...\n",
            "Processing triggers for libc-bin (2.27-3ubuntu1) ...\n",
            "/sbin/ldconfig.real: /usr/local/lib/python3.6/dist-packages/ideep4py/lib/libmkldnn.so.0 is not a symbolic link\n",
            "\n"
          ],
          "name": "stdout"
        }
      ]
    },
    {
      "cell_type": "code",
      "metadata": {
        "id": "ot9eTPFO9za3",
        "colab_type": "code",
        "colab": {}
      },
      "source": [
        "!opencc -i /content/drive/My\\ Drive/LAB/word2vec/wiki_texts.txt -o /content/drive/My\\ Drive/LAB/word2vec/wiki_zh_tw.txt -c s2tw.json"
      ],
      "execution_count": 0,
      "outputs": []
    },
    {
      "cell_type": "markdown",
      "metadata": {
        "id": "_QISiUOeAcAs",
        "colab_type": "text"
      },
      "source": [
        "#### Install hanziconv"
      ]
    },
    {
      "cell_type": "code",
      "metadata": {
        "id": "xu8Y7w9VAg3z",
        "colab_type": "code",
        "outputId": "9e7dc3eb-9fde-498d-dfbd-63e4fea8873d",
        "colab": {
          "base_uri": "https://localhost:8080/",
          "height": 207
        }
      },
      "source": [
        "!pip3 install hanziconv"
      ],
      "execution_count": 0,
      "outputs": [
        {
          "output_type": "stream",
          "text": [
            "Collecting hanziconv\n",
            "\u001b[?25l  Downloading https://files.pythonhosted.org/packages/63/71/b89cb63077fd807fe31cf7c016a06e7e579a289d8a37aa24a30282d02dd2/hanziconv-0.3.2.tar.gz (276kB)\n",
            "\r\u001b[K     |█▏                              | 10kB 17.2MB/s eta 0:00:01\r\u001b[K     |██▍                             | 20kB 1.8MB/s eta 0:00:01\r\u001b[K     |███▌                            | 30kB 2.6MB/s eta 0:00:01\r\u001b[K     |████▊                           | 40kB 3.4MB/s eta 0:00:01\r\u001b[K     |██████                          | 51kB 2.1MB/s eta 0:00:01\r\u001b[K     |███████                         | 61kB 2.5MB/s eta 0:00:01\r\u001b[K     |████████▎                       | 71kB 2.9MB/s eta 0:00:01\r\u001b[K     |█████████▌                      | 81kB 3.3MB/s eta 0:00:01\r\u001b[K     |██████████▋                     | 92kB 2.5MB/s eta 0:00:01\r\u001b[K     |███████████▉                    | 102kB 2.8MB/s eta 0:00:01\r\u001b[K     |█████████████                   | 112kB 2.8MB/s eta 0:00:01\r\u001b[K     |██████████████▏                 | 122kB 2.8MB/s eta 0:00:01\r\u001b[K     |███████████████▍                | 133kB 2.8MB/s eta 0:00:01\r\u001b[K     |████████████████▋               | 143kB 2.8MB/s eta 0:00:01\r\u001b[K     |█████████████████▊              | 153kB 2.8MB/s eta 0:00:01\r\u001b[K     |███████████████████             | 163kB 2.8MB/s eta 0:00:01\r\u001b[K     |████████████████████▏           | 174kB 2.8MB/s eta 0:00:01\r\u001b[K     |█████████████████████▎          | 184kB 2.8MB/s eta 0:00:01\r\u001b[K     |██████████████████████▌         | 194kB 2.8MB/s eta 0:00:01\r\u001b[K     |███████████████████████▊        | 204kB 2.8MB/s eta 0:00:01\r\u001b[K     |████████████████████████▉       | 215kB 2.8MB/s eta 0:00:01\r\u001b[K     |██████████████████████████      | 225kB 2.8MB/s eta 0:00:01\r\u001b[K     |███████████████████████████▎    | 235kB 2.8MB/s eta 0:00:01\r\u001b[K     |████████████████████████████▍   | 245kB 2.8MB/s eta 0:00:01\r\u001b[K     |█████████████████████████████▋  | 256kB 2.8MB/s eta 0:00:01\r\u001b[K     |██████████████████████████████▉ | 266kB 2.8MB/s eta 0:00:01\r\u001b[K     |████████████████████████████████| 276kB 2.8MB/s eta 0:00:01\r\u001b[K     |████████████████████████████████| 286kB 2.8MB/s \n",
            "\u001b[?25hBuilding wheels for collected packages: hanziconv\n",
            "  Building wheel for hanziconv (setup.py) ... \u001b[?25l\u001b[?25hdone\n",
            "  Created wheel for hanziconv: filename=hanziconv-0.3.2-py2.py3-none-any.whl size=23215 sha256=c2547dc26bd87fc4698c3d8533b97c2fc8995e4bcf1be8a6bc63acb69adfe741\n",
            "  Stored in directory: /root/.cache/pip/wheels/03/d8/3c/c39898fa9c9ce6e34b0ab4c6604892462d440c743715c94054\n",
            "Successfully built hanziconv\n",
            "Installing collected packages: hanziconv\n",
            "Successfully installed hanziconv-0.3.2\n"
          ],
          "name": "stdout"
        }
      ]
    },
    {
      "cell_type": "markdown",
      "metadata": {
        "id": "_LgHSXha5VaG",
        "colab_type": "text"
      },
      "source": [
        "#### Segmentation (Stopwords and CNtoTW), output segmentation.txt"
      ]
    },
    {
      "cell_type": "code",
      "metadata": {
        "id": "ewit_64b5YW5",
        "colab_type": "code",
        "outputId": "7812837e-da86-47d2-abca-04692301f974",
        "colab": {
          "base_uri": "https://localhost:8080/",
          "height": 238
        }
      },
      "source": [
        "!python3 /content/drive/My\\ Drive/LAB/word2vec/segmentation.py"
      ],
      "execution_count": 0,
      "outputs": [
        {
          "output_type": "stream",
          "text": [
            "Stopword Set is stored.\n",
            "2020-04-15 02:38:17,295 : INFO : Loading...CN2TW\n",
            "CN2TW is done.\n",
            "2020-04-15 02:44:10,676 : INFO : Loading..(jieba segmentation，and reject stopwords)\n",
            "Building prefix dict from the default dictionary ...\n",
            "2020-04-15 02:44:10,679 : DEBUG : Building prefix dict from the default dictionary ...\n",
            "Dumping model to file cache /tmp/jieba.cache\n",
            "2020-04-15 02:44:11,556 : DEBUG : Dumping model to file cache /tmp/jieba.cache\n",
            "Loading model cost 0.965 seconds.\n",
            "2020-04-15 02:44:11,643 : DEBUG : Loading model cost 0.965 seconds.\n",
            "Prefix dict has been built successfully.\n",
            "2020-04-15 02:44:11,644 : DEBUG : Prefix dict has been built successfully.\n",
            "Jieba segmentation and stopwords process is done.\n"
          ],
          "name": "stdout"
        }
      ]
    },
    {
      "cell_type": "markdown",
      "metadata": {
        "id": "SsPee5X25tMf",
        "colab_type": "text"
      },
      "source": [
        "#### Word2vec training, and output model (wiki300.model.bin)"
      ]
    },
    {
      "cell_type": "code",
      "metadata": {
        "id": "mBD9K5Tu5xdy",
        "colab_type": "code",
        "outputId": "b4cc59da-7129-432b-dade-e903e6d2e6ce",
        "colab": {
          "base_uri": "https://localhost:8080/",
          "height": 115
        }
      },
      "source": [
        "!python3 /content/drive/My\\ Drive/LAB/word2vec/train.py"
      ],
      "execution_count": 0,
      "outputs": [
        {
          "output_type": "stream",
          "text": [
            "Training...\n",
            "/usr/local/lib/python3.6/dist-packages/smart_open/smart_open_lib.py:410: UserWarning: This function is deprecated, use smart_open.open instead. See the migration notes for details: https://github.com/RaRe-Technologies/smart_open/blob/master/README.rst#migrating-to-the-new-open-function\n",
            "  'See the migration notes for details: %s' % _MIGRATION_NOTES_URL\n"
          ],
          "name": "stdout"
        }
      ]
    },
    {
      "cell_type": "markdown",
      "metadata": {
        "id": "inbxyEtJKKza",
        "colab_type": "text"
      },
      "source": [
        "#### Import model and processing tasks"
      ]
    },
    {
      "cell_type": "code",
      "metadata": {
        "id": "gudmnQX1Kryc",
        "colab_type": "code",
        "colab": {
          "base_uri": "https://localhost:8080/",
          "height": 343
        },
        "outputId": "cb9c794f-f823-461a-ce84-fffb5735d5ca"
      },
      "source": [
        "!python3 /content/drive/My\\ Drive/LAB/word2vec/main.py"
      ],
      "execution_count": 2,
      "outputs": [
        {
          "output_type": "stream",
          "text": [
            "/usr/local/lib/python3.6/dist-packages/smart_open/smart_open_lib.py:410: UserWarning: This function is deprecated, use smart_open.open instead. See the migration notes for details: https://github.com/RaRe-Technologies/smart_open/blob/master/README.rst#migrating-to-the-new-open-function\n",
            "  'See the migration notes for details: %s' % _MIGRATION_NOTES_URL\n",
            "Traceback (most recent call last):\n",
            "  File \"/content/drive/My Drive/LAB/word2vec/main.py\", line 57, in <module>\n",
            "    main()\n",
            "  File \"/content/drive/My Drive/LAB/word2vec/main.py\", line 31, in main\n",
            "    word_vectors = KeyedVectors.load_word2vec_format(\"wiki300.model.bin\", binary = True)\n",
            "  File \"/usr/local/lib/python3.6/dist-packages/gensim/models/keyedvectors.py\", line 1438, in load_word2vec_format\n",
            "    limit=limit, datatype=datatype)\n",
            "  File \"/usr/local/lib/python3.6/dist-packages/gensim/models/utils_any2vec.py\", line 171, in _load_word2vec_format\n",
            "    with utils.smart_open(fname) as fin:\n",
            "  File \"/usr/local/lib/python3.6/dist-packages/smart_open/smart_open_lib.py\", line 466, in smart_open\n",
            "    transport_params=transport_params, **scrubbed_kwargs)\n",
            "  File \"/usr/local/lib/python3.6/dist-packages/smart_open/smart_open_lib.py\", line 309, in open\n",
            "    errors=errors,\n",
            "  File \"/usr/local/lib/python3.6/dist-packages/smart_open/smart_open_lib.py\", line 525, in _shortcut_open\n",
            "    return _builtin_open(parsed_uri.uri_path, mode, buffering=buffering, **open_kwargs)\n",
            "FileNotFoundError: [Errno 2] No such file or directory: 'wiki300.model.bin'\n"
          ],
          "name": "stdout"
        }
      ]
    },
    {
      "cell_type": "markdown",
      "metadata": {
        "id": "egk8GEMMvNMJ",
        "colab_type": "text"
      },
      "source": [
        "##### Output\n",
        "1.輸入一個詞彙會找出前5名相似    \n",
        "2.輸入兩個詞彙會算出兩者之間相似度    \n",
        "3.輸入三個詞彙爸爸之於老公,如媽媽之於老婆    \n",
        "\n",
        "輸入格式( Ex: 爸爸,媽媽,....註:最多三個詞彙)    \n",
        "      \n",
        "老師\n",
        "- 詞彙相似詞前 5 排序.    \n",
        "班導,0.6360481977462769    \n",
        "班導師,0.6360464096069336    \n",
        "代課,0.6358826160430908    \n",
        "級任,0.6271134614944458    \n",
        "班主任,0.6270170211791992    \n",
        "\n",
        "- 輸入格式( Ex: 爸爸,媽媽,....註:最多三個詞彙)    \n",
        "爸爸,媽媽    \n",
        "計算兩個詞彙間 Cosine 相似度    \n",
        "    0.780765200371\n",
        "\n",
        "- 輸入格式( Ex: 爸爸,媽媽,....註:最多三個詞彙)    \n",
        "爸爸,老公,媽媽    \n",
        "爸爸之於老公，如媽媽之於    \n",
        "老婆,0.5401346683502197    \n",
        "蠢萌,0.5245970487594604    \n",
        "夠秤,0.5059393048286438    \n",
        "駁命,0.4888317286968231    \n",
        "孔爵,0.4857243597507477    "
      ]
    }
  ]
}