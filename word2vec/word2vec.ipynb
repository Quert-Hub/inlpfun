{
  "nbformat": 4,
  "nbformat_minor": 0,
  "metadata": {
    "kernelspec": {
      "name": "python3",
      "display_name": "Python 3"
    },
    "language_info": {
      "codemirror_mode": {
        "name": "ipython",
        "version": 3
      },
      "file_extension": ".py",
      "mimetype": "text/x-python",
      "name": "python",
      "nbconvert_exporter": "python",
      "pygments_lexer": "ipython3",
      "version": "3.7.4"
    },
    "colab": {
      "name": "word2vec.ipynb",
      "provenance": [],
      "collapsed_sections": [],
      "toc_visible": true,
      "include_colab_link": true
    }
  },
  "cells": [
    {
      "cell_type": "markdown",
      "metadata": {
        "id": "view-in-github",
        "colab_type": "text"
      },
      "source": [
        "<a href=\"https://colab.research.google.com/github/the-Quert/inlpfun/blob/master/word2vec/word2vec.ipynb\" target=\"_parent\"><img src=\"https://colab.research.google.com/assets/colab-badge.svg\" alt=\"Open In Colab\"/></a>"
      ]
    },
    {
      "cell_type": "markdown",
      "metadata": {
        "id": "gmbckb70YSAz",
        "colab_type": "text"
      },
      "source": [
        "#### Mounting GDrive & install Gensim\n"
      ]
    },
    {
      "cell_type": "code",
      "metadata": {
        "id": "_vczF_reVzjd",
        "colab_type": "code",
        "outputId": "2f47449d-1510-4f86-b50a-23e0fda8ec07",
        "colab": {
          "base_uri": "https://localhost:8080/",
          "height": 122
        }
      },
      "source": [
        "from google.colab import drive\n",
        "drive.mount('/content/drive')"
      ],
      "execution_count": 1,
      "outputs": [
        {
          "output_type": "stream",
          "text": [
            "Go to this URL in a browser: https://accounts.google.com/o/oauth2/auth?client_id=947318989803-6bn6qk8qdgf4n4g3pfee6491hc0brc4i.apps.googleusercontent.com&redirect_uri=urn%3aietf%3awg%3aoauth%3a2.0%3aoob&response_type=code&scope=email%20https%3a%2f%2fwww.googleapis.com%2fauth%2fdocs.test%20https%3a%2f%2fwww.googleapis.com%2fauth%2fdrive%20https%3a%2f%2fwww.googleapis.com%2fauth%2fdrive.photos.readonly%20https%3a%2f%2fwww.googleapis.com%2fauth%2fpeopleapi.readonly\n",
            "\n",
            "Enter your authorization code:\n",
            "··········\n",
            "Mounted at /content/drive\n"
          ],
          "name": "stdout"
        }
      ]
    },
    {
      "cell_type": "code",
      "metadata": {
        "id": "7g4jqRm5VMIF",
        "colab_type": "code",
        "outputId": "35ecc5c5-4732-4bb6-b320-7c137aa21afe",
        "colab": {
          "base_uri": "https://localhost:8080/",
          "height": 530
        }
      },
      "source": [
        "!pip3 install gensim"
      ],
      "execution_count": 0,
      "outputs": [
        {
          "output_type": "stream",
          "text": [
            "Requirement already satisfied: gensim in /usr/local/lib/python3.6/dist-packages (3.6.0)\n",
            "Requirement already satisfied: six>=1.5.0 in /usr/local/lib/python3.6/dist-packages (from gensim) (1.12.0)\n",
            "Requirement already satisfied: scipy>=0.18.1 in /usr/local/lib/python3.6/dist-packages (from gensim) (1.4.1)\n",
            "Requirement already satisfied: smart-open>=1.2.1 in /usr/local/lib/python3.6/dist-packages (from gensim) (1.10.0)\n",
            "Requirement already satisfied: numpy>=1.11.3 in /usr/local/lib/python3.6/dist-packages (from gensim) (1.18.2)\n",
            "Requirement already satisfied: boto3 in /usr/local/lib/python3.6/dist-packages (from smart-open>=1.2.1->gensim) (1.12.33)\n",
            "Requirement already satisfied: requests in /usr/local/lib/python3.6/dist-packages (from smart-open>=1.2.1->gensim) (2.21.0)\n",
            "Requirement already satisfied: google-cloud-storage in /usr/local/lib/python3.6/dist-packages (from smart-open>=1.2.1->gensim) (1.18.1)\n",
            "Requirement already satisfied: botocore<1.16.0,>=1.15.33 in /usr/local/lib/python3.6/dist-packages (from boto3->smart-open>=1.2.1->gensim) (1.15.33)\n",
            "Requirement already satisfied: s3transfer<0.4.0,>=0.3.0 in /usr/local/lib/python3.6/dist-packages (from boto3->smart-open>=1.2.1->gensim) (0.3.3)\n",
            "Requirement already satisfied: jmespath<1.0.0,>=0.7.1 in /usr/local/lib/python3.6/dist-packages (from boto3->smart-open>=1.2.1->gensim) (0.9.5)\n",
            "Requirement already satisfied: urllib3<1.25,>=1.21.1 in /usr/local/lib/python3.6/dist-packages (from requests->smart-open>=1.2.1->gensim) (1.24.3)\n",
            "Requirement already satisfied: idna<2.9,>=2.5 in /usr/local/lib/python3.6/dist-packages (from requests->smart-open>=1.2.1->gensim) (2.8)\n",
            "Requirement already satisfied: chardet<3.1.0,>=3.0.2 in /usr/local/lib/python3.6/dist-packages (from requests->smart-open>=1.2.1->gensim) (3.0.4)\n",
            "Requirement already satisfied: certifi>=2017.4.17 in /usr/local/lib/python3.6/dist-packages (from requests->smart-open>=1.2.1->gensim) (2019.11.28)\n",
            "Requirement already satisfied: google-auth>=1.2.0 in /usr/local/lib/python3.6/dist-packages (from google-cloud-storage->smart-open>=1.2.1->gensim) (1.7.2)\n",
            "Requirement already satisfied: google-resumable-media<0.5.0dev,>=0.3.1 in /usr/local/lib/python3.6/dist-packages (from google-cloud-storage->smart-open>=1.2.1->gensim) (0.4.1)\n",
            "Requirement already satisfied: google-cloud-core<2.0dev,>=1.0.0 in /usr/local/lib/python3.6/dist-packages (from google-cloud-storage->smart-open>=1.2.1->gensim) (1.0.3)\n",
            "Requirement already satisfied: python-dateutil<3.0.0,>=2.1 in /usr/local/lib/python3.6/dist-packages (from botocore<1.16.0,>=1.15.33->boto3->smart-open>=1.2.1->gensim) (2.8.1)\n",
            "Requirement already satisfied: docutils<0.16,>=0.10 in /usr/local/lib/python3.6/dist-packages (from botocore<1.16.0,>=1.15.33->boto3->smart-open>=1.2.1->gensim) (0.15.2)\n",
            "Requirement already satisfied: setuptools>=40.3.0 in /usr/local/lib/python3.6/dist-packages (from google-auth>=1.2.0->google-cloud-storage->smart-open>=1.2.1->gensim) (46.0.0)\n",
            "Requirement already satisfied: pyasn1-modules>=0.2.1 in /usr/local/lib/python3.6/dist-packages (from google-auth>=1.2.0->google-cloud-storage->smart-open>=1.2.1->gensim) (0.2.8)\n",
            "Requirement already satisfied: cachetools<3.2,>=2.0.0 in /usr/local/lib/python3.6/dist-packages (from google-auth>=1.2.0->google-cloud-storage->smart-open>=1.2.1->gensim) (3.1.1)\n",
            "Requirement already satisfied: rsa<4.1,>=3.1.4 in /usr/local/lib/python3.6/dist-packages (from google-auth>=1.2.0->google-cloud-storage->smart-open>=1.2.1->gensim) (4.0)\n",
            "Requirement already satisfied: google-api-core<2.0.0dev,>=1.14.0 in /usr/local/lib/python3.6/dist-packages (from google-cloud-core<2.0dev,>=1.0.0->google-cloud-storage->smart-open>=1.2.1->gensim) (1.16.0)\n",
            "Requirement already satisfied: pyasn1<0.5.0,>=0.4.6 in /usr/local/lib/python3.6/dist-packages (from pyasn1-modules>=0.2.1->google-auth>=1.2.0->google-cloud-storage->smart-open>=1.2.1->gensim) (0.4.8)\n",
            "Requirement already satisfied: googleapis-common-protos<2.0dev,>=1.6.0 in /usr/local/lib/python3.6/dist-packages (from google-api-core<2.0.0dev,>=1.14.0->google-cloud-core<2.0dev,>=1.0.0->google-cloud-storage->smart-open>=1.2.1->gensim) (1.51.0)\n",
            "Requirement already satisfied: protobuf>=3.4.0 in /usr/local/lib/python3.6/dist-packages (from google-api-core<2.0.0dev,>=1.14.0->google-cloud-core<2.0dev,>=1.0.0->google-cloud-storage->smart-open>=1.2.1->gensim) (3.10.0)\n",
            "Requirement already satisfied: pytz in /usr/local/lib/python3.6/dist-packages (from google-api-core<2.0.0dev,>=1.14.0->google-cloud-core<2.0dev,>=1.0.0->google-cloud-storage->smart-open>=1.2.1->gensim) (2018.9)\n"
          ],
          "name": "stdout"
        }
      ]
    },
    {
      "cell_type": "markdown",
      "metadata": {
        "id": "TEXhkAneVJ21",
        "colab_type": "text"
      },
      "source": [
        "#### Installing Gensim and WikiCorpus (Split words)"
      ]
    },
    {
      "cell_type": "code",
      "metadata": {
        "id": "wOga_6OhVJ23",
        "colab_type": "code",
        "outputId": "9e303dbf-c876-4c3c-8d2d-0d93dbcb52d4",
        "colab": {
          "base_uri": "https://localhost:8080/",
          "height": 204
        }
      },
      "source": [
        "!wget -c https://dumps.wikimedia.org/zhwiki/20200401/zhwiki-20200401-pages-articles.xml.bz2"
      ],
      "execution_count": 0,
      "outputs": [
        {
          "output_type": "stream",
          "text": [
            "--2020-04-06 08:20:47--  https://dumps.wikimedia.org/zhwiki/20200401/zhwiki-20200401-pages-articles.xml.bz2\n",
            "Resolving dumps.wikimedia.org (dumps.wikimedia.org)... 208.80.154.7, 2620:0:861:1:208:80:154:7\n",
            "Connecting to dumps.wikimedia.org (dumps.wikimedia.org)|208.80.154.7|:443... connected.\n",
            "HTTP request sent, awaiting response... 200 OK\n",
            "Length: 1908947963 (1.8G) [application/octet-stream]\n",
            "Saving to: ‘zhwiki-20200401-pages-articles.xml.bz2’\n",
            "\n",
            "zhwiki-20200401-pag 100%[===================>]   1.78G  4.90MB/s    in 6m 19s  \n",
            "\n",
            "2020-04-06 08:27:07 (4.80 MB/s) - ‘zhwiki-20200401-pages-articles.xml.bz2’ saved [1908947963/1908947963]\n",
            "\n"
          ],
          "name": "stdout"
        }
      ]
    },
    {
      "cell_type": "code",
      "metadata": {
        "id": "FjRyooZLbfH4",
        "colab_type": "code",
        "outputId": "ecc60d4d-4c09-41e8-8612-20540b1c168c",
        "colab": {
          "base_uri": "https://localhost:8080/",
          "height": 1000
        }
      },
      "source": [
        "!python3 /content/drive/My\\ Drive/word2vec/wiki_to_txt.py /content/drive/My\\ Drive/word2vec/zhwiki-20200401-pages-articles.xml.bz2"
      ],
      "execution_count": 0,
      "outputs": [
        {
          "output_type": "stream",
          "text": [
            "2020-04-06 08:30:14,816 : INFO : 已處理 10000 篇文章\n",
            "2020-04-06 08:31:18,576 : INFO : 已處理 20000 篇文章\n",
            "2020-04-06 08:32:17,587 : INFO : 已處理 30000 篇文章\n",
            "2020-04-06 08:33:15,063 : INFO : 已處理 40000 篇文章\n",
            "2020-04-06 08:34:12,984 : INFO : 已處理 50000 篇文章\n",
            "2020-04-06 08:35:10,912 : INFO : 已處理 60000 篇文章\n",
            "2020-04-06 08:36:06,167 : INFO : 已處理 70000 篇文章\n",
            "2020-04-06 08:36:58,902 : INFO : 已處理 80000 篇文章\n",
            "2020-04-06 08:37:49,591 : INFO : 已處理 90000 篇文章\n",
            "2020-04-06 08:38:47,337 : INFO : 已處理 100000 篇文章\n",
            "2020-04-06 08:39:56,542 : INFO : 已處理 110000 篇文章\n",
            "2020-04-06 08:40:55,293 : INFO : 已處理 120000 篇文章\n",
            "2020-04-06 08:41:55,914 : INFO : 已處理 130000 篇文章\n",
            "2020-04-06 08:42:57,336 : INFO : 已處理 140000 篇文章\n",
            "2020-04-06 08:43:55,778 : INFO : 已處理 150000 篇文章\n",
            "2020-04-06 08:44:55,152 : INFO : 已處理 160000 篇文章\n",
            "2020-04-06 08:45:55,886 : INFO : 已處理 170000 篇文章\n",
            "2020-04-06 08:46:57,819 : INFO : 已處理 180000 篇文章\n",
            "2020-04-06 08:50:42,247 : INFO : 已處理 190000 篇文章\n",
            "2020-04-06 08:52:05,775 : INFO : 已處理 200000 篇文章\n",
            "2020-04-06 08:53:57,780 : INFO : 已處理 210000 篇文章\n",
            "2020-04-06 08:55:25,967 : INFO : 已處理 220000 篇文章\n",
            "2020-04-06 08:56:36,033 : INFO : 已處理 230000 篇文章\n",
            "2020-04-06 08:57:54,041 : INFO : 已處理 240000 篇文章\n",
            "2020-04-06 08:59:11,503 : INFO : 已處理 250000 篇文章\n",
            "2020-04-06 09:00:21,120 : INFO : 已處理 260000 篇文章\n",
            "2020-04-06 09:01:37,408 : INFO : 已處理 270000 篇文章\n",
            "2020-04-06 09:02:53,306 : INFO : 已處理 280000 篇文章\n",
            "2020-04-06 09:04:00,685 : INFO : 已處理 290000 篇文章\n",
            "2020-04-06 09:05:03,546 : INFO : 已處理 300000 篇文章\n",
            "2020-04-06 09:05:06,504 : WARNING : user terminated iteration over Wikipedia corpus after 300397 documents with 71191968 positions (total 2883608 articles, 83289141 positions before pruning articles shorter than 50 words)\n",
            "Process InputQueue-2:\n",
            "Traceback (most recent call last):\n",
            "  File \"/content/drive/My Drive/word2vec/wiki_to_txt.py\", line 24, in <module>\n",
            "Traceback (most recent call last):\n",
            "  File \"/usr/lib/python3.6/multiprocessing/process.py\", line 258, in _bootstrap\n",
            "    self.run()\n",
            "  File \"/usr/local/lib/python3.6/dist-packages/gensim/utils.py\", line 1208, in run\n",
            "    self.q.put(wrapped_chunk.pop(), block=True)\n",
            "  File \"/usr/lib/python3.6/multiprocessing/queues.py\", line 82, in put\n",
            "    if not self._sem.acquire(block, timeout):\n",
            "KeyboardInterrupt\n",
            "    main()\n",
            "  File \"/content/drive/My Drive/word2vec/wiki_to_txt.py\", line 17, in main\n",
            "    for text in wiki_corpus.get_texts():\n",
            "  File \"/usr/local/lib/python3.6/dist-packages/gensim/corpora/wikicorpus.py\", line 707, in get_texts\n",
            "    pool.terminate()\n",
            "  File \"/usr/lib/python3.6/multiprocessing/pool.py\", line 541, in terminate\n",
            "    self._terminate()\n",
            "  File \"/usr/lib/python3.6/multiprocessing/util.py\", line 186, in __call__\n",
            "    res = self._callback(*self._args, **self._kwargs)\n",
            "  File \"/usr/lib/python3.6/multiprocessing/pool.py\", line 582, in _terminate_pool\n",
            "    worker_handler.join()\n",
            "  File \"/usr/lib/python3.6/threading.py\", line 1056, in join\n",
            "    self._wait_for_tstate_lock()\n",
            "  File \"/usr/lib/python3.6/threading.py\", line 1072, in _wait_for_tstate_lock\n",
            "    elif lock.acquire(block, timeout):\n",
            "KeyboardInterrupt\n"
          ],
          "name": "stdout"
        }
      ]
    },
    {
      "cell_type": "markdown",
      "metadata": {
        "id": "I3yS66O0x-mH",
        "colab_type": "text"
      },
      "source": [
        "#### Install Jieba (for Chinese tokenization)"
      ]
    },
    {
      "cell_type": "code",
      "metadata": {
        "id": "S6vcPhy5yExe",
        "colab_type": "code",
        "outputId": "35e6e9ae-a388-4e6e-9989-7527909a6687",
        "colab": {
          "base_uri": "https://localhost:8080/",
          "height": 34
        }
      },
      "source": [
        "!pip3 install jieba"
      ],
      "execution_count": 0,
      "outputs": [
        {
          "output_type": "stream",
          "text": [
            "Requirement already satisfied: jieba in /usr/local/lib/python3.6/dist-packages (0.42.1)\n"
          ],
          "name": "stdout"
        }
      ]
    },
    {
      "cell_type": "markdown",
      "metadata": {
        "id": "iL2Gw0lF9INl",
        "colab_type": "text"
      },
      "source": [
        "#### OpenCC"
      ]
    },
    {
      "cell_type": "code",
      "metadata": {
        "id": "GlbDJeiMyKDe",
        "colab_type": "code",
        "outputId": "36ddf782-aa03-456f-8bb6-b4756710fe06",
        "colab": {
          "base_uri": "https://localhost:8080/",
          "height": 527
        }
      },
      "source": [
        "!apt install opencc"
      ],
      "execution_count": 0,
      "outputs": [
        {
          "output_type": "stream",
          "text": [
            "Reading package lists... Done\n",
            "Building dependency tree       \n",
            "Reading state information... Done\n",
            "The following additional packages will be installed:\n",
            "  libopencc2 libopencc2-data\n",
            "The following NEW packages will be installed:\n",
            "  libopencc2 libopencc2-data opencc\n",
            "0 upgraded, 3 newly installed, 0 to remove and 25 not upgraded.\n",
            "Need to get 1,390 kB of archives.\n",
            "After this operation, 7,332 kB of additional disk space will be used.\n",
            "Get:1 http://archive.ubuntu.com/ubuntu bionic/universe amd64 libopencc2-data all 1.0.4-5 [106 kB]\n",
            "Get:2 http://archive.ubuntu.com/ubuntu bionic/universe amd64 libopencc2 amd64 1.0.4-5 [1,199 kB]\n",
            "Get:3 http://archive.ubuntu.com/ubuntu bionic/universe amd64 opencc amd64 1.0.4-5 [85.3 kB]\n",
            "Fetched 1,390 kB in 0s (10.0 MB/s)\n",
            "Selecting previously unselected package libopencc2-data.\n",
            "(Reading database ... 144542 files and directories currently installed.)\n",
            "Preparing to unpack .../libopencc2-data_1.0.4-5_all.deb ...\n",
            "Unpacking libopencc2-data (1.0.4-5) ...\n",
            "Selecting previously unselected package libopencc2:amd64.\n",
            "Preparing to unpack .../libopencc2_1.0.4-5_amd64.deb ...\n",
            "Unpacking libopencc2:amd64 (1.0.4-5) ...\n",
            "Selecting previously unselected package opencc.\n",
            "Preparing to unpack .../opencc_1.0.4-5_amd64.deb ...\n",
            "Unpacking opencc (1.0.4-5) ...\n",
            "Setting up libopencc2-data (1.0.4-5) ...\n",
            "Setting up libopencc2:amd64 (1.0.4-5) ...\n",
            "Setting up opencc (1.0.4-5) ...\n",
            "Processing triggers for libc-bin (2.27-3ubuntu1) ...\n",
            "/sbin/ldconfig.real: /usr/local/lib/python3.6/dist-packages/ideep4py/lib/libmkldnn.so.0 is not a symbolic link\n",
            "\n"
          ],
          "name": "stdout"
        }
      ]
    },
    {
      "cell_type": "code",
      "metadata": {
        "id": "ot9eTPFO9za3",
        "colab_type": "code",
        "colab": {}
      },
      "source": [
        "!opencc -i /content/drive/My\\ Drive/word2vec/wiki_texts.txt -o /content/drive/My\\ Drive/word2vec/wiki_zh_tw.txt -c s2tw.json"
      ],
      "execution_count": 0,
      "outputs": []
    },
    {
      "cell_type": "markdown",
      "metadata": {
        "id": "_LgHSXha5VaG",
        "colab_type": "text"
      },
      "source": [
        "#### Segmentation (Including stopwords)"
      ]
    },
    {
      "cell_type": "code",
      "metadata": {
        "id": "ewit_64b5YW5",
        "colab_type": "code",
        "colab": {}
      },
      "source": [
        "!python3 /content/drive/My\\ Drive/word2vec/segment.py /content/drive/My\\ Drive/word2vec/wiki_zh_tw.txt"
      ],
      "execution_count": 0,
      "outputs": []
    },
    {
      "cell_type": "markdown",
      "metadata": {
        "id": "SsPee5X25tMf",
        "colab_type": "text"
      },
      "source": [
        "#### Word2vec (word embedding)"
      ]
    },
    {
      "cell_type": "code",
      "metadata": {
        "id": "mBD9K5Tu5xdy",
        "colab_type": "code",
        "colab": {}
      },
      "source": [
        "!python3 /content/drive/My\\ Drive/word2vec/train.py /content/drive/My\\ Drive/word2vec/wiki_seg.txt"
      ],
      "execution_count": 0,
      "outputs": []
    }
  ]
}