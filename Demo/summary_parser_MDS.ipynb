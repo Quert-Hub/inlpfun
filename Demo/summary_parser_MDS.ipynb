{
  "nbformat": 4,
  "nbformat_minor": 0,
  "metadata": {
    "colab": {
      "name": "summary_parser_MDS.ipynb",
      "provenance": [],
      "collapsed_sections": [],
      "authorship_tag": "ABX9TyPu+vXSg6mxG6MJGN2ZYbjY",
      "include_colab_link": true
    },
    "kernelspec": {
      "name": "python3",
      "display_name": "Python 3"
    },
    "language_info": {
      "name": "python"
    },
    "accelerator": "GPU"
  },
  "cells": [
    {
      "cell_type": "markdown",
      "metadata": {
        "id": "view-in-github",
        "colab_type": "text"
      },
      "source": [
        "<a href=\"https://colab.research.google.com/github/theQuert/inlpfun/blob/master/Demo/summary_parser_MDS.ipynb\" target=\"_parent\"><img src=\"https://colab.research.google.com/assets/colab-badge.svg\" alt=\"Open In Colab\"/></a>"
      ]
    },
    {
      "cell_type": "code",
      "execution_count": null,
      "metadata": {
        "id": "_rSii8Yc4Rju"
      },
      "outputs": [],
      "source": [
        "%%capture\n",
        "!pip3 install transformers\n",
        "import re\n",
        "import urllib\n",
        "from urllib import request\n",
        "import requests\n",
        "from bs4 import BeautifulSoup\n",
        "from transformers import pipeline\n",
        "import requests.packages.urllib3\n",
        "requests.packages.urllib3.disable_warnings()"
      ]
    },
    {
      "cell_type": "code",
      "source": [
        "#@title Keywords input\n",
        "urls = []\n",
        "keywords_1 = 'covid covidvariant new variant south' #@param {type: \"string\"}\n",
        "keywords_1 = re.sub(' ', '+', keywords_1)\n",
        "start_date_1 = '2021-12-01' #@param {type: \"string\"}\n",
        "end_date_1 = '2021-12-02' #@param {type: \"string\"}\n",
        "search_inputs_1 = f'{keywords_1}+after%3A{start_date_1}+before%3A{end_date_1}'\n",
        "url_1 = f\"https://www.google.com/search?q={search_inputs_1}&tbm=nws&lr=lang_en&hl=en&sort=date&num=19\"\n",
        "urls.append(url_1)\n",
        "\n",
        "keywords_2 = 'covid covidvaccine variant covidvariant new' #@param {type: \"string\"}\n",
        "keywords_2 = re.sub(' ', '+', keywords_2)\n",
        "start_date_2 = '2021-12-04' #@param {type: \"string\"}\n",
        "end_date_2 = '2021-12-05' #@param {type: \"string\"}\n",
        "search_inputs_2 = f'{keywords_2}+after%3A{start_date_2}+before%3A{end_date_2}'\n",
        "url_2 = f\"https://www.google.com/search?q={search_inputs_2}&tbm=nws&lr=lang_en&hl=en&sort=date&num=19\"\n",
        "urls.append(url_2)\n",
        "\n",
        "keywords_3 = 'case confirmed florida first ireland' #@param {type: \"string\"}\n",
        "keywords_3 = re.sub(' ', '+', keywords_3)\n",
        "start_date_3 = '2021-12-07' #@param {type: \"string\"}\n",
        "end_date_3 = '2021-12-09' #@param {type: \"string\"}\n",
        "search_inputs_3 = f'{keywords_3}+after%3A{start_date_3}+before%3A{end_date_3}'\n",
        "url_3 = f\"https://www.google.com/search?q={search_inputs_3}&tbm=nws&lr=lang_en&hl=en&sort=date&num=19\"\n",
        "urls.append(url_3)\n",
        "\n",
        "keywords_4 = 'covid covidvariant advised leak javid' #@param {type: \"string\"}\n",
        "keywords_4 = re.sub(' ', '+', keywords_4)\n",
        "start_date_4 = '2021-12-10' #@param {type: \"string\"}\n",
        "end_date_4 = '2021-12-11' #@param {type: \"string\"}\n",
        "search_inputs_4 = f'{keywords_4}+after%3A{start_date_4}+before%3A{end_date_4}'\n",
        "url_4 = f\"https://www.google.com/search?q={search_inputs_4}&tbm=nws&lr=lang_en&hl=en&sort=date&num=19\"\n",
        "urls.append(url_4)\n",
        "\n",
        "keywords_5 = 'covid covidvariant javid uk sajid' #@param {type: \"string\"}\n",
        "keywords_5 = re.sub(' ', '+', keywords_5)\n",
        "start_date_5 = '2021-12-13' #@param {type: \"string\"}\n",
        "end_date_5 = '2021-12-15' #@param {type: \"string\"}\n",
        "search_inputs_5 = f'{keywords_5}+after%3A{start_date_5}+before%3A{end_date_5}'\n",
        "url_5 = f\"https://www.google.com/search?q={search_inputs_5}&tbm=nws&lr=lang_en&hl=en&sort=date&num=19\"\n",
        "urls.append(url_5)\n",
        "\n",
        "headers = {\n",
        "    'user-agent': 'Mozilla/5.0 (Macintosh; Intel Mac OS X 10_15_7) AppleWebKit/537.36 (KHTML, like Gecko) Chrome/96.0.4664.93 Safari/537.36',\n",
        "    'cookie': 'ANID=AHWqTUluW4edOtDZ7-3F_53MFqdDN5T1DN-BNC-VcXXBw5C-KZsKjYGVJuCyD8kx; CONSENT=YES+TW.zh-TW+202002; OGPC=19022622-1:; SID=FQjW04nu_23-53Z_Lj1ZPwh5znV47FRwCmN_qzj9TRwSosFBXkUIP64k0Y-dUwDAz3mG_Q.; __Secure-1PSID=FQjW04nu_23-53Z_Lj1ZPwh5znV47FRwCmN_qzj9TRwSosFBHb5LI_6CXhDVlrIsgPpy6A.; __Secure-3PSID=FQjW04nu_23-53Z_Lj1ZPwh5znV47FRwCmN_qzj9TRwSosFBArXzwnhWV3VwJBhI1LX5lA.; HSID=AKipmF7Ju8gkn3bE4; SSID=ArMVTx4XoOf21X6Zi; APISID=gNBnak_4bGHBxuBb/AHWCwhVzktsMH3M-2; SAPISID=0x2XVB2tadnlG49F/AKdZkTW2zr8T-jcOp; __Secure-1PAPISID=0x2XVB2tadnlG49F/AKdZkTW2zr8T-jcOp; __Secure-3PAPISID=0x2XVB2tadnlG49F/AKdZkTW2zr8T-jcOp; NID=511=WZSeKnCToUmsTsi3o2LIkNHwJjIxkfqh2KX79ufabKT8GGv218Dr9FGso5W5O_LyoYkoPomabJnGKGEzuPjlRs15iQUi_NeAA9lXqWqR17PO074BOeqAKirMnIM4QroKm-N1F7t_J2IhE4dHn1jQ6swJkGxCaUJFjM9G1osjzJc9SMdiIy6UBtj4UXcnS4hWkyMOMiBNyLTRMBaH_UeaRLXD1ZSTr0ZwFz1XMYf7LhzZDIlNqAE-56UWOnN4vXAPoXH6zpkvigNULs4K3iBSuTP1d0BCbTC2ZPIuLe6aMDP_VisnVSw_3tG50Ku0qWXMWQjGW7ULqejQbAcHP3FLrlMvPMUqUT4poBHH7gQ8LZyUQZvDQzwalX9mOcDd3DvMVZlw4t7gpWV4w9unkYEWyx2aUKSJl9sN9gB5uJ5BB2AVcd76NrO854aOx4j6sSCrE1s0lPAUEc3OSwIKlvH_-Jnw36-eWUeS7sMnVeHJR_g2gx2bKnKfrDgKmbVh2tpOdq8riRg98ghPzlLrY20_Vvk2_Kd0SCaS3Z3Pk0KhY2ZbTibSV1qFjJsCM47iSumi5equJidqGA9jzAZNOxfdsjX106r21FZFT53ErQ; 1P_JAR=2022-01-08-02; SEARCH_SAMESITE=CgQIuJQB; SIDCC=AJi4QfEdlDP8JWptpn5Ei1jSlnwR6ov5CucFtcPRFKCruGaxc7du0w9afugi2PjtLf65kQpESkc; __Secure-3PSIDCC=AJi4QfEjT-vmOyI28lEJFAH71EEp8sRG2rSzyXGB-5o7Mw3LCumoNsvZsPjCJNf4uzGx7xc9HRM' \n",
        "}"
      ],
      "metadata": {
        "id": "3ClLd39J9dFt"
      },
      "execution_count": 21,
      "outputs": []
    },
    {
      "cell_type": "code",
      "source": [
        "summarization = []\n",
        "def scrape(num, url):\n",
        "    num = num\n",
        "    url_list = []\n",
        "    metas = []\n",
        "    resp = requests.get(url, headers=headers)\n",
        "    soup = BeautifulSoup(resp.content, \"html.parser\")\n",
        "    soup_prettify = soup.prettify()\n",
        "    with open(f'url_{num}.html', 'w') as fwrite:\n",
        "        fwrite.write(soup_prettify)\n",
        "    for link in soup.find_all('a'):\n",
        "        url_list.append(link.get('href'))\n",
        "    for url in url_list:\n",
        "        if bool(re.findall('google.com', str(url)))==True:\n",
        "            url_list.remove(url)\n",
        "    regex = r\"(?i)\\b((?:https?://|www\\d{0,3}[.]|[a-z0-9.\\-]+[.][a-z]{2,4}/)(?:[^\\s()<>]+|\\(([^\\s()<>]+|(\\([^\\s()<>]+\\)))*\\))+(?:\\(([^\\s()<>]+|(\\([^\\s()<>]+\\)))*\\)|[^\\s`!()\\[\\]{};:'\\\".,<>?«»“”‘’]))\"\n",
        "    for url in url_list:\n",
        "        if bool(re.findall(regex, str(url)))==True:\n",
        "            metas.append(url)\n",
        "    for meta in metas:\n",
        "        if bool(re.findall('policies.google.com', str(meta)))==True:\n",
        "            metas.remove(meta)\n",
        "\n",
        "    inputs = []\n",
        "    for meta in metas:\n",
        "        try:\n",
        "            resp = requests.get(meta, headers=headers, timeout=5)\n",
        "        except requests.exceptions.ReadTimeout:\n",
        "            print(\"READ TIMED OUT\")\n",
        "        soup = BeautifulSoup(resp.content, \"html.parser\")\n",
        "        try:\n",
        "            title = soup.title.string\n",
        "            title_filtered = re.sub(r'(\\s)-(\\s)(\\w+).+', '', title)\n",
        "            title_filtered = title_filtered.strip('\\r\\n\\t')\n",
        "            inputs.append(title_filtered)\n",
        "        except:\n",
        "            print('Title convertion failed')\n",
        "    try:\n",
        "        summarizer = pipeline(\"summarization\")\n",
        "        summ=' '.join([str(i) for i in inputs])\n",
        "        summarized = summarizer(summ, min_length=5, max_length=20)\n",
        "        summarization.append(summarized[0]['summary_text'])\n",
        "    except:\n",
        "        print('Title conversion failed, summarization fails, too.')"
      ],
      "metadata": {
        "id": "xB3XFMNv4M5W"
      },
      "execution_count": 23,
      "outputs": []
    },
    {
      "cell_type": "code",
      "source": [
        "for id in range(len(urls)):\n",
        "    scrape(id, urls[id])"
      ],
      "metadata": {
        "colab": {
          "base_uri": "https://localhost:8080/"
        },
        "id": "Tti2HC765GWi",
        "outputId": "cd2b0913-df27-4e7b-af28-0df96234fb9a"
      },
      "execution_count": 26,
      "outputs": [
        {
          "output_type": "stream",
          "name": "stderr",
          "text": [
            "No model was supplied, defaulted to sshleifer/distilbart-cnn-12-6 (https://huggingface.co/sshleifer/distilbart-cnn-12-6)\n"
          ]
        },
        {
          "output_type": "stream",
          "name": "stdout",
          "text": [
            "READ TIMED OUT\n",
            "READ TIMED OUT\n"
          ]
        },
        {
          "output_type": "stream",
          "name": "stderr",
          "text": [
            "No model was supplied, defaulted to sshleifer/distilbart-cnn-12-6 (https://huggingface.co/sshleifer/distilbart-cnn-12-6)\n",
            "No model was supplied, defaulted to sshleifer/distilbart-cnn-12-6 (https://huggingface.co/sshleifer/distilbart-cnn-12-6)\n",
            "No model was supplied, defaulted to sshleifer/distilbart-cnn-12-6 (https://huggingface.co/sshleifer/distilbart-cnn-12-6)\n",
            "No model was supplied, defaulted to sshleifer/distilbart-cnn-12-6 (https://huggingface.co/sshleifer/distilbart-cnn-12-6)\n"
          ]
        }
      ]
    },
    {
      "cell_type": "code",
      "source": [
        "# summarization"
      ],
      "metadata": {
        "id": "_8MPs7tF7Bfr"
      },
      "execution_count": null,
      "outputs": []
    },
    {
      "cell_type": "code",
      "source": [
        "import statistics\n",
        "\n",
        "length = [len(txt.split()) for txt in summarization]\n",
        "avg_len = statistics.mean(length)\n",
        "summarizer = pipeline(\"summarization\")\n",
        "summ=' '.join([str(i) for i in summarization])\n",
        "summarized = summarizer(summ, min_length=5, max_length=int(avg_len+5))\n",
        "print(summarized[0]['summary_text'])"
      ],
      "metadata": {
        "colab": {
          "base_uri": "https://localhost:8080/"
        },
        "id": "e7dzvi2nmO-4",
        "outputId": "78227d2c-5ae5-4599-b03b-f896ad7051ae"
      },
      "execution_count": 30,
      "outputs": [
        {
          "output_type": "stream",
          "name": "stderr",
          "text": [
            "No model was supplied, defaulted to sshleifer/distilbart-cnn-12-6 (https://huggingface.co/sshleifer/distilbart-cnn-12-6)\n"
          ]
        },
        {
          "output_type": "stream",
          "name": "stdout",
          "text": [
            " CDC confirms first U.S. case of omicron Cov\n"
          ]
        }
      ]
    }
  ]
}