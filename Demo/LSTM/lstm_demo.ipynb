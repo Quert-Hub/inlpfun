{
  "nbformat": 4,
  "nbformat_minor": 0,
  "metadata": {
    "colab": {
      "name": "lstm_demo2.ipynb",
      "provenance": [],
      "collapsed_sections": [],
      "toc_visible": true,
      "authorship_tag": "ABX9TyM4ImmjE/K/9sP4HojxzTOs",
      "include_colab_link": true
    },
    "kernelspec": {
      "name": "python3",
      "display_name": "Python 3"
    }
  },
  "cells": [
    {
      "cell_type": "markdown",
      "metadata": {
        "id": "view-in-github",
        "colab_type": "text"
      },
      "source": [
        "<a href=\"https://colab.research.google.com/github/the-Quert/inlpfun/blob/master/Lab/Demo/LSTM/lstm_demo.ipynb\" target=\"_parent\"><img src=\"https://colab.research.google.com/assets/colab-badge.svg\" alt=\"Open In Colab\"/></a>"
      ]
    },
    {
      "cell_type": "markdown",
      "metadata": {
        "id": "Fgx0PKH0TzYJ",
        "colab_type": "text"
      },
      "source": [
        "#### Mount GDrive"
      ]
    },
    {
      "cell_type": "code",
      "metadata": {
        "id": "uSxGu3_olnYR",
        "colab_type": "code",
        "outputId": "142ab2ba-a6db-49e5-b77b-7cab192a085a",
        "colab": {
          "base_uri": "https://localhost:8080/",
          "height": 122
        }
      },
      "source": [
        "from google.colab import drive\n",
        "drive.mount('/content/drive')"
      ],
      "execution_count": 0,
      "outputs": [
        {
          "output_type": "stream",
          "text": [
            "Go to this URL in a browser: https://accounts.google.com/o/oauth2/auth?client_id=947318989803-6bn6qk8qdgf4n4g3pfee6491hc0brc4i.apps.googleusercontent.com&redirect_uri=urn%3aietf%3awg%3aoauth%3a2.0%3aoob&response_type=code&scope=email%20https%3a%2f%2fwww.googleapis.com%2fauth%2fdocs.test%20https%3a%2f%2fwww.googleapis.com%2fauth%2fdrive%20https%3a%2f%2fwww.googleapis.com%2fauth%2fdrive.photos.readonly%20https%3a%2f%2fwww.googleapis.com%2fauth%2fpeopleapi.readonly\n",
            "\n",
            "Enter your authorization code:\n",
            "··········\n",
            "Mounted at /content/drive\n"
          ],
          "name": "stdout"
        }
      ]
    },
    {
      "cell_type": "markdown",
      "metadata": {
        "id": "WGh9R0nJT3Ls",
        "colab_type": "text"
      },
      "source": [
        "#### Migrate TF1 code to TF2"
      ]
    },
    {
      "cell_type": "code",
      "metadata": {
        "id": "8YwQY54Tmlzf",
        "colab_type": "code",
        "outputId": "2a8c148d-8676-43ce-9607-cfff1cfb4370",
        "colab": {
          "base_uri": "https://localhost:8080/",
          "height": 88
        }
      },
      "source": [
        "import tensorflow.compat.v1 as tf\n",
        "tf.disable_v2_behavior()"
      ],
      "execution_count": 0,
      "outputs": [
        {
          "output_type": "stream",
          "text": [
            "WARNING:tensorflow:From /usr/local/lib/python3.6/dist-packages/tensorflow/python/compat/v2_compat.py:96: disable_resource_variables (from tensorflow.python.ops.variable_scope) is deprecated and will be removed in a future version.\n",
            "Instructions for updating:\n",
            "non-resource variables are not supported in the long term\n"
          ],
          "name": "stdout"
        }
      ]
    },
    {
      "cell_type": "markdown",
      "metadata": {
        "id": "Mf38g3sJAcTH",
        "colab_type": "text"
      },
      "source": [
        "#### Data dowloading (IMDb)"
      ]
    },
    {
      "cell_type": "code",
      "metadata": {
        "id": "EfDeh_288kre",
        "colab_type": "code",
        "outputId": "527ae9dd-7011-4a09-bc0d-a7fdcecc144c",
        "colab": {
          "base_uri": "https://localhost:8080/",
          "height": 85
        }
      },
      "source": [
        "!git clone https://github.com/adeshpande3/LSTM-Sentiment-Analysis.git"
      ],
      "execution_count": 0,
      "outputs": [
        {
          "output_type": "stream",
          "text": [
            "Cloning into 'LSTM-Sentiment-Analysis'...\n",
            "remote: Enumerating objects: 74, done.\u001b[K\n",
            "remote: Total 74 (delta 0), reused 0 (delta 0), pack-reused 74\u001b[K\n",
            "Unpacking objects: 100% (74/74), done.\n"
          ],
          "name": "stdout"
        }
      ]
    },
    {
      "cell_type": "code",
      "metadata": {
        "id": "zzhW-gUJ8srV",
        "colab_type": "code",
        "colab": {}
      },
      "source": [
        "!tar xvzf /content/LSTM-Sentiment-Analysis/training_data.tar.gz"
      ],
      "execution_count": 0,
      "outputs": []
    },
    {
      "cell_type": "code",
      "metadata": {
        "id": "FN-Y4960a8rY",
        "colab_type": "code",
        "outputId": "57e67320-0cd4-4975-cbe1-ddff67fffea7",
        "colab": {
          "base_uri": "https://localhost:8080/",
          "height": 102
        }
      },
      "source": [
        "!tar xvzf /content/LSTM-Sentiment-Analysis/models.tar.gz"
      ],
      "execution_count": 0,
      "outputs": [
        {
          "output_type": "stream",
          "text": [
            "models/\n",
            "models/pretrained_lstm.ckpt-90000.meta\n",
            "models/pretrained_lstm.ckpt-90000.data-00000-of-00001\n",
            "models/pretrained_lstm.ckpt-90000.index\n",
            "models/checkpoint\n"
          ],
          "name": "stdout"
        }
      ]
    },
    {
      "cell_type": "code",
      "metadata": {
        "id": "wbpcvUuc_d48",
        "colab_type": "code",
        "colab": {}
      },
      "source": [
        "'''\n",
        "!rm -rf /content/negativeReviews\n",
        "!rm -rf /content/positiveReviews\n",
        "!rm -rf /content/idsMatrix.npy\n",
        "!rm -rf /content/wordVectors.npy\n",
        "!rm -rf /content/wordsList.npy\n",
        "'''"
      ],
      "execution_count": 0,
      "outputs": []
    },
    {
      "cell_type": "markdown",
      "metadata": {
        "id": "HfZ6QVFzPe4h",
        "colab_type": "text"
      },
      "source": [
        "#### Steps\n",
        "- Training a word vector generation model (such as Word2Vec) or loading pretrained word vectors\n",
        "- Creating an ID's matrix for our training set\n",
        "- RNN (With LSTM units) graph creation\n",
        "- Training \n",
        "- Testing"
      ]
    },
    {
      "cell_type": "markdown",
      "metadata": {
        "id": "PtvfuUaFPp6u",
        "colab_type": "text"
      },
      "source": [
        "#### 1. Training a word vector generation model (such as GloVe) or loading pretrained word vectors.\n",
        "- Pre-trained `GloVe` does more pre-process than `Word2Vec`.\n",
        "- `Word2Vec` model contains 3 million word vectors, each with a dimensionality of 300.\n",
        "- `GloVe` contains 400,000 word vectors, each with a dimensionality of 50."
      ]
    },
    {
      "cell_type": "code",
      "metadata": {
        "id": "8JUXxwMrPoCi",
        "colab_type": "code",
        "outputId": "b599ef74-7bfa-4b7e-c5de-ba351505b34c",
        "colab": {
          "base_uri": "https://localhost:8080/",
          "height": 51
        }
      },
      "source": [
        "import numpy as np\n",
        "wordsList = np.load('/content/wordsList.npy')\n",
        "print('Loaded the word list')\n",
        "# Load as numpy array\n",
        "wordsList = wordsList.tolist()\n",
        "wordsList = [word.decode('UTF-8') for word in wordsList]\n",
        "wordVectors = np.load('/content/wordVectors.npy')\n",
        "print('Loaded the word vectors')"
      ],
      "execution_count": 0,
      "outputs": [
        {
          "output_type": "stream",
          "text": [
            "Loaded the word list\n",
            "Loaded the word vectors\n"
          ],
          "name": "stdout"
        }
      ]
    },
    {
      "cell_type": "code",
      "metadata": {
        "id": "1RUwXV3sS-eo",
        "colab_type": "code",
        "outputId": "c6632b11-551e-4240-e74e-c067e0103b3a",
        "colab": {
          "base_uri": "https://localhost:8080/",
          "height": 51
        }
      },
      "source": [
        "print(len(wordsList))\n",
        "print(wordVectors.shape)\n",
        "# Embedding matrix: [400000, 50]"
      ],
      "execution_count": 0,
      "outputs": [
        {
          "output_type": "stream",
          "text": [
            "400000\n",
            "(400000, 50)\n"
          ],
          "name": "stdout"
        }
      ]
    },
    {
      "cell_type": "code",
      "metadata": {
        "id": "WoPg2OmKTHmW",
        "colab_type": "code",
        "outputId": "fb82beb9-5de8-45f3-a374-0fb4dc3fd8c8",
        "colab": {
          "base_uri": "https://localhost:8080/",
          "height": 51
        }
      },
      "source": [
        "# Testing the index finding\n",
        "import tensorflow as tf\n",
        "max_seq_len = 10\n",
        "num_of_dim = 50\n",
        "id_matrix = np.zeros((max_seq_len), dtype = 'int32')\n",
        "sentence_test = 'i thought the movie was incredible and inspiring'\n",
        "sentence_test = sentence_test.split()\n",
        "len_of_sentence = len(sentence_test)\n",
        "for i in range(len_of_sentence):\n",
        "    id_matrix[i] = wordsList.index(sentence_test[i])\n",
        "\n",
        "print(id_matrix.shape)\n",
        "print(id_matrix)\n"
      ],
      "execution_count": 0,
      "outputs": [
        {
          "output_type": "stream",
          "text": [
            "(10,)\n",
            "[    41    804 201534   1005     15   7446      5  13767      0      0]\n"
          ],
          "name": "stdout"
        }
      ]
    },
    {
      "cell_type": "code",
      "metadata": {
        "id": "nXumKsoNF061",
        "colab_type": "code",
        "outputId": "91b5889e-f46d-40c5-998f-f603b67e8031",
        "colab": {
          "base_uri": "https://localhost:8080/",
          "height": 51
        }
      },
      "source": [
        "firstSentence = np.zeros((max_seq_len), dtype='int32')\n",
        "firstSentence[0] = wordsList.index(\"i\")\n",
        "firstSentence[1] = wordsList.index(\"thought\")\n",
        "firstSentence[2] = wordsList.index(\"the\")\n",
        "firstSentence[3] = wordsList.index(\"movie\")\n",
        "firstSentence[4] = wordsList.index(\"was\")\n",
        "firstSentence[5] = wordsList.index(\"incredible\")\n",
        "firstSentence[6] = wordsList.index(\"and\")\n",
        "firstSentence[7] = wordsList.index(\"inspiring\")\n",
        "#firstSentence[8] and firstSentence[9] are going to be 0\n",
        "print(firstSentence.shape)\n",
        "print(firstSentence) #Shows the row index for each word"
      ],
      "execution_count": 0,
      "outputs": [
        {
          "output_type": "stream",
          "text": [
            "(10,)\n",
            "[    41    804 201534   1005     15   7446      5  13767      0      0]\n"
          ],
          "name": "stdout"
        }
      ]
    },
    {
      "cell_type": "code",
      "metadata": {
        "id": "-S1uy5TjEhLG",
        "colab_type": "code",
        "outputId": "3cc27069-d393-4a1c-db5d-7c9f87c78283",
        "colab": {
          "base_uri": "https://localhost:8080/",
          "height": 34
        }
      },
      "source": [
        "# Input sequence -> Integerized Representation -> Embedding Matrix ->\n",
        "# tf.nn.embedding_lookup -> Sequence Vector\n",
        "with tf.compat.v1.Session() as sess:\n",
        "    print(tf.nn.embedding_lookup(wordVectors, firstSentence).eval().shape)"
      ],
      "execution_count": 0,
      "outputs": [
        {
          "output_type": "stream",
          "text": [
            "(10, 50)\n"
          ],
          "name": "stdout"
        }
      ]
    },
    {
      "cell_type": "code",
      "metadata": {
        "id": "3jkfp-Vxor7s",
        "colab_type": "code",
        "outputId": "7283d76a-ee19-4cc4-a961-aa913af1d969",
        "colab": {
          "base_uri": "https://localhost:8080/",
          "height": 102
        }
      },
      "source": [
        "from os import listdir\n",
        "from os.path import isfile, join\n",
        "positiveFiles = ['positiveReviews/' + f for f in listdir('/content/positiveReviews/') if isfile(join('positiveReviews/', f))]\n",
        "negativeFiles = ['negativeReviews/' + f for f in listdir('/content/negativeReviews/') if isfile(join('negativeReviews/', f))]\n",
        "numWords = []\n",
        "for pf in positiveFiles:\n",
        "    with open(pf, 'r', encoding = 'utf-8') as f:\n",
        "        line = f.readline()\n",
        "        counter = len(line.split())\n",
        "        numWords.append(counter)\n",
        "print('Positive files finished')\n",
        "\n",
        "for nf in negativeFiles:\n",
        "    with open(nf, 'r', encoding = 'utf-8') as f:\n",
        "        line = f.readline()\n",
        "        counter = len(line.split())\n",
        "        numWords.append(counter)\n",
        "print('Negative files finished')\n",
        "\n",
        "numFiles = len(numWords)\n",
        "print('The totall number of files is {0}'.format(numFiles))\n",
        "print('The total number of words in the files is {0}'.format(sum(numWords)))\n",
        "print('The average number of words in the files is {0}'.format(sum(numWords) / len(numWords)))\n"
      ],
      "execution_count": 0,
      "outputs": [
        {
          "output_type": "stream",
          "text": [
            "Positive files finished\n",
            "Negative files finished\n",
            "The totall number of files is 25000\n",
            "The total number of words in the files is 5844680\n",
            "The average number of words in the files is 233.7872\n"
          ],
          "name": "stdout"
        }
      ]
    },
    {
      "cell_type": "code",
      "metadata": {
        "id": "z22gbz0VrDUK",
        "colab_type": "code",
        "outputId": "3acc8c59-440f-4783-e2ff-cba9b993a02f",
        "colab": {
          "base_uri": "https://localhost:8080/",
          "height": 300
        }
      },
      "source": [
        "import matplotlib.pyplot as plt\n",
        "%matplotlib inline\n",
        "plt.hist(numWords, 50)\n",
        "plt.xlabel('Sequence Length')\n",
        "plt.ylabel('Frequency')\n",
        "plt.axis([0, 1200, 0, 8000])"
      ],
      "execution_count": 0,
      "outputs": [
        {
          "output_type": "execute_result",
          "data": {
            "text/plain": [
              "(0.0, 1200.0, 0.0, 8000.0)"
            ]
          },
          "metadata": {
            "tags": []
          },
          "execution_count": 12
        },
        {
          "output_type": "display_data",
          "data": {
            "image/png": "[encoded data removed]",
            "text/plain": [
              "<Figure size 432x288 with 1 Axes>"
            ]
          },
          "metadata": {
            "tags": [],
            "needs_background": "light"
          }
        }
      ]
    },
    {
      "cell_type": "code",
      "metadata": {
        "id": "INAfb4HuqqR_",
        "colab_type": "code",
        "colab": {}
      },
      "source": [
        "max_seq_len = 250"
      ],
      "execution_count": 0,
      "outputs": []
    },
    {
      "cell_type": "code",
      "metadata": {
        "id": "X_EG8qF4ZJ_I",
        "colab_type": "code",
        "colab": {}
      },
      "source": [
        "# Removes punctuation, parentheses, question marks, etc., \n",
        "# and leaves only alphanumeric characters\n",
        "# Convert sequence to an ids matrix\n",
        "import re\n",
        "strip_special_chars = re.compile(\"[^A-Za-z0-9 ]+\")\n",
        "\n",
        "def cleanSentences(string):\n",
        "    string = string.lower().replace(\"<br />\", \" \")\n",
        "    return re.sub(strip_special_chars, \"\", string.lower())"
      ],
      "execution_count": 0,
      "outputs": []
    },
    {
      "cell_type": "markdown",
      "metadata": {
        "id": "96z8bICgh-Oo",
        "colab_type": "text"
      },
      "source": [
        "#### Creating an id matrix for our training set\n",
        "#### [25000, 250]"
      ]
    },
    {
      "cell_type": "code",
      "metadata": {
        "id": "2pdEOAGJUcWz",
        "colab_type": "code",
        "colab": {}
      },
      "source": [
        "'''\n",
        "fname = positiveFiles[3] #Can use any valid index (not just 3)\n",
        "with open(fname) as f:\n",
        "    for lines in f:\n",
        "        print(lines)\n",
        "        exit\n",
        "with open(fname) as f:\n",
        "    indexCounter = 0\n",
        "    line=f.readline()\n",
        "    cleanedLine = cleanSentences(line)\n",
        "    split = cleanedLine.split()\n",
        "    for word in split:\n",
        "        if indexCounter < max_seq_len:\n",
        "            try:\n",
        "                firstFile[indexCounter] = wordsList.index(word)\n",
        "            except ValueError:\n",
        "                firstFile[indexCounter] = 399999 #Vector for unknown words\n",
        "        indexCounter = indexCounter + 1\n",
        "firstFile\n",
        "'''"
      ],
      "execution_count": 0,
      "outputs": []
    },
    {
      "cell_type": "code",
      "metadata": {
        "id": "JP88th4_awMP",
        "colab_type": "code",
        "colab": {}
      },
      "source": [
        "ids = np.zeros((numFiles, max_seq_len), dtype='int32') # 25000, 250\n",
        "fileCounter = 0\n",
        "for pf in positiveFiles:\n",
        "   with open(pf, \"r\") as f:\n",
        "       indexCounter = 0\n",
        "       line=f.readline()\n",
        "       cleanedLine = cleanSentences(line)\n",
        "       split = cleanedLine.split()\n",
        "       for word in split:\n",
        "           try:\n",
        "               ids[fileCounter][indexCounter] = wordsList.index(word)\n",
        "           except ValueError:\n",
        "               ids[fileCounter][indexCounter] = 399999 #Vector for unkown words\n",
        "           indexCounter = indexCounter + 1\n",
        "           if indexCounter >= max_seq_len:\n",
        "               break\n",
        "       fileCounter = fileCounter + 1 \n",
        "\n",
        "for nf in negativeFiles:\n",
        "   with open(nf, \"r\") as f:\n",
        "       indexCounter = 0\n",
        "       line=f.readline()\n",
        "       cleanedLine = cleanSentences(line)\n",
        "       split = cleanedLine.split()\n",
        "       for word in split:\n",
        "           try:\n",
        "               ids[fileCounter][indexCounter] = wordsList.index(word)\n",
        "           except ValueError:\n",
        "               ids[fileCounter][indexCounter] = 399999 #Vector for unkown words\n",
        "           indexCounter = indexCounter + 1\n",
        "           if indexCounter >= maxSeqLength:\n",
        "               break\n",
        "       fileCounter = fileCounter + 1 \n",
        "# Pass into embedding function and see if it evaluates. \n",
        "\n",
        "np.save('idsMatrix', ids)"
      ],
      "execution_count": 0,
      "outputs": []
    },
    {
      "cell_type": "code",
      "metadata": {
        "id": "FQE5w_YdzP8f",
        "colab_type": "code",
        "colab": {}
      },
      "source": [
        "ids = np.load('idsMatrix.npy')"
      ],
      "execution_count": 0,
      "outputs": []
    },
    {
      "cell_type": "code",
      "metadata": {
        "id": "fzOkBaPFcGgE",
        "colab_type": "code",
        "colab": {}
      },
      "source": [
        "# Helper Functions\n",
        "from random import randint\n",
        "\n",
        "def getTrainBatch():\n",
        "    labels = []\n",
        "    arr = np.zeros([batchSize, max_seq_len])\n",
        "    for i in range(batchSize):\n",
        "        if (i % 2 == 0): \n",
        "            num = randint(1,11499)\n",
        "            labels.append([1,0])\n",
        "        else:\n",
        "            num = randint(13499,24999)\n",
        "            labels.append([0,1])\n",
        "        arr[i] = ids[num-1:num]\n",
        "    return arr, labels\n",
        "\n",
        "def getTestBatch():\n",
        "    labels = []\n",
        "    arr = np.zeros([batchSize, max_seq_len])\n",
        "    for i in range(batchSize):\n",
        "        num = randint(11499,13499)\n",
        "        if (num <= 12499):\n",
        "            labels.append([1,0])\n",
        "        else:\n",
        "            labels.append([0,1])\n",
        "        arr[i] = ids[num-1:num]\n",
        "    return arr, labels"
      ],
      "execution_count": 0,
      "outputs": []
    },
    {
      "cell_type": "markdown",
      "metadata": {
        "id": "r5uQp3ttiHYK",
        "colab_type": "text"
      },
      "source": [
        "#### RNN (With LSTM units) graph creation"
      ]
    },
    {
      "cell_type": "code",
      "metadata": {
        "id": "LZx4A_VfhtBI",
        "colab_type": "code",
        "colab": {}
      },
      "source": [
        "# RNN Model\n",
        "batchSize = 24\n",
        "lstmUnits = 64\n",
        "numClasses = 2\n",
        "iterations = 50000\n",
        "num_of_dim = 50"
      ],
      "execution_count": 0,
      "outputs": []
    },
    {
      "cell_type": "code",
      "metadata": {
        "id": "9LPgPzI_h2NN",
        "colab_type": "code",
        "colab": {}
      },
      "source": [
        "# Create placeholder for input_data and labels\n",
        "tf.compat.v1.reset_default_graph()\n",
        "input_data = tf.compat.v1.placeholder(tf.int32, [batchSize, max_seq_len])\n",
        "labels = tf.compat.v1.placeholder(tf.float32, [batchSize, numClasses])"
      ],
      "execution_count": 0,
      "outputs": []
    },
    {
      "cell_type": "code",
      "metadata": {
        "id": "FAnu6Z4Qjqkq",
        "colab_type": "code",
        "outputId": "92db9770-57b8-4d11-f3b3-3652ac9bb34e",
        "colab": {
          "base_uri": "https://localhost:8080/",
          "height": 88
        }
      },
      "source": [
        "# Once we have out input_data's placeholder, we are going to call tf.nn.lookup()\n",
        "# to get the word vectors.\n",
        "# Return 3-D tensor : batchSize * max_seq_len * num_of_dim [24, 250, 50]\n",
        "data = tf.Variable(tf.zeros([batchSize, max_seq_len, num_of_dim]), dtype = tf.float32)\n",
        "data = tf.nn.embedding_lookup(wordVectors, input_data)"
      ],
      "execution_count": 0,
      "outputs": [
        {
          "output_type": "stream",
          "text": [
            "WARNING:tensorflow:From /usr/local/lib/python3.6/dist-packages/tensorflow/python/ops/resource_variable_ops.py:1666: calling BaseResourceVariable.__init__ (from tensorflow.python.ops.resource_variable_ops) with constraint is deprecated and will be removed in a future version.\n",
            "Instructions for updating:\n",
            "If using Keras pass *_constraint arguments to layers.\n"
          ],
          "name": "stdout"
        }
      ]
    },
    {
      "cell_type": "code",
      "metadata": {
        "id": "y_24l4bQJTxx",
        "colab_type": "code",
        "outputId": "4a1debfe-be31-4964-d89c-7afb1359b4cf",
        "colab": {
          "base_uri": "https://localhost:8080/",
          "height": 34
        }
      },
      "source": [
        "print(data)"
      ],
      "execution_count": 0,
      "outputs": [
        {
          "output_type": "stream",
          "text": [
            "Tensor(\"embedding_lookup/Identity:0\", shape=(24, 250, 50), dtype=float32)\n"
          ],
          "name": "stdout"
        }
      ]
    },
    {
      "cell_type": "code",
      "metadata": {
        "id": "6vUAQmWPkudw",
        "colab_type": "code",
        "outputId": "f552fbfb-ea30-4b60-f8f3-aa540cd12256",
        "colab": {
          "base_uri": "https://localhost:8080/",
          "height": 241
        }
      },
      "source": [
        "# Create LSTM model\n",
        "lstmCell = tf.compat.v1.nn.rnn_cell.BasicLSTMCell(lstmUnits)\n",
        "lstmCell = tf.compat.v1.nn.rnn_cell.DropoutWrapper(cell=lstmCell, output_keep_prob=0.75)\n",
        "# unrolling the whole network and creating a pathway for the data to flow through the RNN graph.\n",
        "value, _ = tf.compat.v1.nn.dynamic_rnn(cell=lstmCell, inputs=data, dtype=tf.float32)"
      ],
      "execution_count": 0,
      "outputs": [
        {
          "output_type": "stream",
          "text": [
            "WARNING:tensorflow:From <ipython-input-21-a4ee5b98d46e>:2: BasicLSTMCell.__init__ (from tensorflow.python.ops.rnn_cell_impl) is deprecated and will be removed in a future version.\n",
            "Instructions for updating:\n",
            "This class is equivalent as tf.keras.layers.LSTMCell, and will be replaced by that in Tensorflow 2.0.\n",
            "WARNING:tensorflow:From <ipython-input-21-a4ee5b98d46e>:5: dynamic_rnn (from tensorflow.python.ops.rnn) is deprecated and will be removed in a future version.\n",
            "Instructions for updating:\n",
            "Please use `keras.layers.RNN(cell)`, which is equivalent to this API\n",
            "WARNING:tensorflow:From /usr/local/lib/python3.6/dist-packages/tensorflow/python/ops/rnn_cell_impl.py:740: Layer.add_variable (from tensorflow.python.keras.engine.base_layer_v1) is deprecated and will be removed in a future version.\n",
            "Instructions for updating:\n",
            "Please use `layer.add_weight` method instead.\n",
            "WARNING:tensorflow:From /usr/local/lib/python3.6/dist-packages/tensorflow/python/ops/rnn_cell_impl.py:744: calling Zeros.__init__ (from tensorflow.python.ops.init_ops) with dtype is deprecated and will be removed in a future version.\n",
            "Instructions for updating:\n",
            "Call initializer instance with the dtype argument instead of passing it to the constructor\n"
          ],
          "name": "stdout"
        }
      ]
    },
    {
      "cell_type": "code",
      "metadata": {
        "id": "7o1LsN9Il4q7",
        "colab_type": "code",
        "colab": {}
      },
      "source": [
        "# Weight initialization\n",
        "weight = tf.Variable(tf.compat.v1.truncated_normal([lstmUnits, numClasses]))\n",
        "bias = tf.Variable(tf.constant(0.1, shape = [numClasses]))\n",
        "value = tf.transpose(value, [1, 0, 2])\n",
        "# Obtain the last value\n",
        "last = tf.gather(value, int(value.get_shape()[0]) - 1)\n",
        "prediction = (tf.matmul(last, weight) + bias)"
      ],
      "execution_count": 0,
      "outputs": []
    },
    {
      "cell_type": "code",
      "metadata": {
        "id": "W96E7reAN8-v",
        "colab_type": "code",
        "colab": {}
      },
      "source": [
        "correctPred = tf.equal(tf.argmax(prediction, 1), tf.argmax(labels, 1))\n",
        "accuracy = tf.reduce_mean(tf.cast(correctPred, tf.float32))"
      ],
      "execution_count": 0,
      "outputs": []
    },
    {
      "cell_type": "code",
      "metadata": {
        "id": "ylIBN3-sOakj",
        "colab_type": "code",
        "colab": {}
      },
      "source": [
        "loss = tf.reduce_mean(tf.nn.softmax_cross_entropy_with_logits(logits=prediction, labels=labels))\n",
        "optimizer = tf.compat.v1.train.AdamOptimizer().minimize(loss)"
      ],
      "execution_count": 0,
      "outputs": []
    },
    {
      "cell_type": "code",
      "metadata": {
        "id": "aLO2C1SWOstQ",
        "colab_type": "code",
        "colab": {}
      },
      "source": [
        "import datetime\n",
        "tf.summary.scalar('Loss', loss)\n",
        "tf.summary.scalar('Accuracy', accuracy)\n",
        "merged = tf.compat.v1.summary.merge_all()\n",
        "logdir = \"tensorboard/\" + datetime.datetime.now().strftime(\"%Y%m%d-%H%M%S\") + \"/\"\n",
        "writer = tf.compat.v1.summary.FileWriter(logdir, sess.graph)"
      ],
      "execution_count": 0,
      "outputs": []
    },
    {
      "cell_type": "markdown",
      "metadata": {
        "id": "6ls6NmkOPR6O",
        "colab_type": "text"
      },
      "source": [
        "#### Training"
      ]
    },
    {
      "cell_type": "code",
      "metadata": {
        "id": "k9ZWUAixPJZa",
        "colab_type": "code",
        "outputId": "6b24f43c-92f7-4313-9d57-bda12dbdf64c",
        "colab": {
          "base_uri": "https://localhost:8080/",
          "height": 139
        }
      },
      "source": [
        "!mkdir /content/drive/My\\ Drive/LAB/models\n",
        "sess = tf.compat.v1.InteractiveSession()\n",
        "saver = tf.compat.v1.train.Saver()\n",
        "sess.run(tf.compat.v1.global_variables_initializer())\n",
        "\n",
        "for i in range(iterations):\n",
        "   #Next Batch of reviews\n",
        "   nextBatch, nextBatchLabels = getTrainBatch();\n",
        "   sess.run(optimizer, {input_data: nextBatch, labels: nextBatchLabels})\n",
        "\n",
        "   #Write summary to Tensorboard\n",
        "   if (i % 100 == 0 and i != 0):\n",
        "       summary = sess.run(merged, {input_data: nextBatch, labels: nextBatchLabels})\n",
        "       writer.add_summary(summary, i)\n",
        "\n",
        "   #Save the network every 10,000 training iterations\n",
        "   if (i % 10000 == 0 and i != 0):\n",
        "       save_path = saver.save(sess, \"/content/drive/My Drive/LAB/models/pretrained_lstm.ckpt\", global_step=i)\n",
        "       print(\"saved to %s\" % save_path)\n",
        "writer.close()"
      ],
      "execution_count": 0,
      "outputs": [
        {
          "output_type": "stream",
          "text": [
            "/usr/local/lib/python3.6/dist-packages/tensorflow/python/client/session.py:1751: UserWarning: An interactive session is already active. This can cause out-of-memory errors in some cases. You must explicitly call `InteractiveSession.close()` to release resources held by the other session(s).\n",
            "  warnings.warn('An interactive session is already active. This can '\n"
          ],
          "name": "stderr"
        },
        {
          "output_type": "stream",
          "text": [
            "saved to /content/drive/My Drive/LAB/models/pretrained_lstm.ckpt-10000\n",
            "saved to /content/drive/My Drive/LAB/models/pretrained_lstm.ckpt-20000\n",
            "saved to /content/drive/My Drive/LAB/models/pretrained_lstm.ckpt-30000\n",
            "saved to /content/drive/My Drive/LAB/models/pretrained_lstm.ckpt-40000\n"
          ],
          "name": "stdout"
        }
      ]
    },
    {
      "cell_type": "code",
      "metadata": {
        "id": "hSGmoXW1VtKd",
        "colab_type": "code",
        "outputId": "6fbb8b25-648f-4e4c-eb0a-ed9c7d1b9457",
        "colab": {
          "base_uri": "https://localhost:8080/",
          "height": 34
        }
      },
      "source": [
        "sess = tf.compat.v1.InteractiveSession()\n",
        "saver = tf.compat.v1.train.Saver()\n",
        "saver.restore(sess, tf.compat.v1.train.latest_checkpoint('/content/drive/My Drive/LAB/models'))"
      ],
      "execution_count": 0,
      "outputs": [
        {
          "output_type": "stream",
          "text": [
            "INFO:tensorflow:Restoring parameters from /content/drive/My Drive/LAB/models/pretrained_lstm.ckpt-40000\n"
          ],
          "name": "stdout"
        }
      ]
    },
    {
      "cell_type": "markdown",
      "metadata": {
        "id": "4_aW637B9Krq",
        "colab_type": "text"
      },
      "source": [
        "#### Testing"
      ]
    },
    {
      "cell_type": "code",
      "metadata": {
        "id": "g6UoyVFscUZO",
        "colab_type": "code",
        "outputId": "5383976c-34ba-42c0-b186-3b99b336372b",
        "colab": {
          "base_uri": "https://localhost:8080/",
          "height": 34
        }
      },
      "source": [
        "iterations = 5000\n",
        "store_res = []\n",
        "for i in range(iterations):\n",
        "    nextBatch, nextBatchLabels = getTestBatch();\n",
        "    res = ((sess.run(accuracy, {input_data: nextBatch, labels: nextBatchLabels})) * 100)\n",
        "    # print(\"Accuracy for this batch:\", res)\n",
        "    store_res.append(res)\n",
        "sum(store_res) / len(store_res)"
      ],
      "execution_count": 0,
      "outputs": [
        {
          "output_type": "execute_result",
          "data": {
            "text/plain": [
              "50.21416682898998"
            ]
          },
          "metadata": {
            "tags": []
          },
          "execution_count": 51
        }
      ]
    }
  ]
}